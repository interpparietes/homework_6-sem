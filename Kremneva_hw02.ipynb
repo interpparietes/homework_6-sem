{
  "cells": [
    {
      "cell_type": "markdown",
      "metadata": {
        "id": "d41c194e-20bd-4662-b97d-40e968411a87"
      },
      "source": [
        "#### Семинарская задача 2 (2 балла).\n",
        "\n",
        "Получать оценки методом рандома - грустно. Попробуйте придумать что-нибудь, чтобы оценки за домашку зависели от времени, которое на нее потратил студент (но при этом неплохо бы поставить какое-нибудь ограничение, чтобы студент не мог сидеть над домашкой 100500 часов!), а оценки за ту часть экзамена, которая сдается непосредственно на экзамене - от ранее полученных оценок (ну типа, если человек весь семестр учился хорошо и получал одни пятерки, шанс, что он на самом экзамене ответит на 0 баллов, крайне невелик...)"
      ],
      "id": "d41c194e-20bd-4662-b97d-40e968411a87"
    },
    {
      "cell_type": "code",
      "source": [
        "import random, time\n",
        "from collections import defaultdict\n",
        "\n",
        "class Student:\n",
        "  def __init__(self, name: str, course: int):\n",
        "    self.name = name\n",
        "    self.course = course\n",
        "    self.recordbook = RecordBook()\n",
        "\n",
        "  def sleep(self, n: int):\n",
        "    print(f'{self.name} спит')\n",
        "    time.sleep(n)\n",
        "    print(f'{self.name} проснулся')\n",
        "\n",
        "  def attend(self, lecture, n):\n",
        "    print(f'{self.name} приходит на пару по: {lecture.discipline}')\n",
        "    time.sleep(n)\n",
        "\n",
        "  def do_homework(self, lecture, task_numb): # добавлю количество задач в дз для подсчета времени и баллов\n",
        "    print(f'{self.name} делает домашку по: {lecture.discipline}')\n",
        "\n",
        "    my_time = task_numb * lecture.diffic_lev // 10\n",
        "\n",
        "    print(f'Делать домашку придется: {my_time} часов...')\n",
        "\n",
        "    for i in range(my_time):\n",
        "      time.sleep(1)\n",
        "      print('Скучно' + '.' * random.randint(1, 10))\n",
        "\n",
        "    if my_time > 30: # зависимость оценки за дз от потраченного времени и кол-ва задач\n",
        "      print('слишком долго делаем домашку!')\n",
        "    elif 1 <= my_time <= 10:\n",
        "      my_mark = task_numb * 3\n",
        "    elif 11 <= my_time <= 20:\n",
        "      my_mark = task_numb * 2\n",
        "    else:\n",
        "      my_mark = task_numb\n",
        "\n",
        "    self.recordbook.addmark(lecture.discipline, my_mark)\n",
        "\n",
        "  def passexam(self, lecture):\n",
        "    if self.recordbook.marks[lecture] >= 50: # будем считать, что человек, набравший хотя бы 50 баллов за семестр, на экзамене не наберет меньше 20, и наоборот\n",
        "      mark = random.randint(20, 40)\n",
        "      self.recordbook.addmark(lecture, mark)\n",
        "    else:\n",
        "      mark = random.randint(0, 19)\n",
        "      self.recordbook.addmark(lecture, mark)\n",
        "\n",
        "    print(f'{self.name} получает за экзамен: {mark}')\n",
        "    if self.recordbook.marks[lecture] < 50:\n",
        "      print(f'{self.name} идет на пересдачу!')\n",
        "    else:\n",
        "      print('Ура! Экзамен сдан!')\n",
        "\n",
        "class RecordBook:\n",
        "  def __init__(self):\n",
        "    self.marks = defaultdict(int)\n",
        "\n",
        "  def addmark(self, discipline, mark):\n",
        "    self.marks[discipline] += mark\n",
        "\n",
        "  def showmarks(self):\n",
        "    for d in self.marks:\n",
        "      print(f'Дисциплина \"{(d)}\": {self.marks[d]}')\n",
        "\n",
        "class Discipline:\n",
        "  def __init__(self, discipline, needed_time, diffic_lev):\n",
        "    self.discipline = discipline\n",
        "    self.time = needed_time\n",
        "    self.diffic_lev = diffic_lev"
      ],
      "metadata": {
        "id": "CfuYElOvHUl9"
      },
      "execution_count": null,
      "outputs": [],
      "id": "CfuYElOvHUl9"
    },
    {
      "cell_type": "code",
      "source": [
        "prog = Discipline('Программирование', 2, 12)\n",
        "\n",
        "vasya = Student('Вася', 2)\n",
        "vasya.attend(prog, 3)\n",
        "vasya.do_homework(prog, 3)\n",
        "vasya.do_homework(prog, 4)\n",
        "vasya.recordbook.showmarks()\n",
        "vasya.passexam('Программирование')\n",
        "vasya.recordbook.showmarks()\n",
        "\n",
        "# с таким инпутом Вася должен получить за семинары 21 балл"
      ],
      "metadata": {
        "colab": {
          "base_uri": "https://localhost:8080/"
        },
        "id": "m3BEPmH3P9oz",
        "outputId": "39c28ed2-f626-4161-df41-f9b24615a231"
      },
      "id": "m3BEPmH3P9oz",
      "execution_count": null,
      "outputs": [
        {
          "output_type": "stream",
          "name": "stdout",
          "text": [
            "Вася приходит на пару по: Программирование\n",
            "Вася делает домашку по: Программирование\n",
            "Делать домашку придется: 3 часов...\n",
            "Скучно..\n",
            "Скучно..........\n",
            "Скучно...\n",
            "Вася делает домашку по: Программирование\n",
            "Делать домашку придется: 4 часов...\n",
            "Скучно.........\n",
            "Скучно..\n",
            "Скучно....\n",
            "Скучно......\n",
            "Дисциплина \"Программирование\": 21\n",
            "Вася получает за экзамен: 3\n",
            "Вася идет на пересдачу!\n",
            "Дисциплина \"Программирование\": 24\n"
          ]
        }
      ]
    },
    {
      "cell_type": "markdown",
      "id": "60b83a41-dcfc-4e6d-862b-5902b8d94504",
      "metadata": {
        "id": "60b83a41-dcfc-4e6d-862b-5902b8d94504"
      },
      "source": [
        "#### Задача 1 (5 баллов).\n",
        "\n",
        "Перепишите задачи 5-8 из первого семинара в класс. У класса должен быть главный метод \"считать конлу\" и дополнительные методы для подсчета. Неплохо также написать отдельный класс Token для токенов - каждое слово или знак пунктуации в формате описывается 10 значениями, разделенными знаком табуляции, подробнее можно почитать [тут](https://universaldependencies.org/format.html)."
      ]
    },
    {
      "cell_type": "code",
      "source": [
        "!wget https://raw.githubusercontent.com/rsuh-python/bac21-25/main/term06/01-Exercise/syntagrus_tiny.conllu"
      ],
      "metadata": {
        "colab": {
          "base_uri": "https://localhost:8080/"
        },
        "id": "A3eWs16_1oah",
        "outputId": "a317621d-cb33-4bbf-d980-48a87145f78a"
      },
      "id": "A3eWs16_1oah",
      "execution_count": null,
      "outputs": [
        {
          "output_type": "stream",
          "name": "stdout",
          "text": [
            "--2024-03-02 20:29:30--  https://raw.githubusercontent.com/rsuh-python/bac21-25/main/term06/01-Exercise/syntagrus_tiny.conllu\n",
            "Resolving raw.githubusercontent.com (raw.githubusercontent.com)... 185.199.111.133, 185.199.109.133, 185.199.110.133, ...\n",
            "Connecting to raw.githubusercontent.com (raw.githubusercontent.com)|185.199.111.133|:443... connected.\n",
            "HTTP request sent, awaiting response... 200 OK\n",
            "Length: 6659 (6.5K) [text/plain]\n",
            "Saving to: ‘syntagrus_tiny.conllu’\n",
            "\n",
            "\rsyntagrus_tiny.conl   0%[                    ]       0  --.-KB/s               \rsyntagrus_tiny.conl 100%[===================>]   6.50K  --.-KB/s    in 0s      \n",
            "\n",
            "2024-03-02 20:29:31 (53.3 MB/s) - ‘syntagrus_tiny.conllu’ saved [6659/6659]\n",
            "\n"
          ]
        }
      ]
    },
    {
      "cell_type": "code",
      "execution_count": null,
      "id": "f648591a-1518-4aaf-9709-459ce15e1d89",
      "metadata": {
        "id": "f648591a-1518-4aaf-9709-459ce15e1d89"
      },
      "outputs": [],
      "source": [
        "from string import punctuation\n",
        "from collections import Counter\n",
        "\n",
        "class Conllu:\n",
        "  def __init__(self, conllu: str):\n",
        "    self.conllu = conllu\n",
        "    self.lines = []\n",
        "\n",
        "  def read_conllu(self):\n",
        "    result = {}\n",
        "\n",
        "    with open(self.conllu, 'r', encoding='utf-8') as file:\n",
        "      self.lines = file.readlines()\n",
        "\n",
        "    for line in self.lines:\n",
        "      if line.startswith('# sent_id'):\n",
        "        id = line.strip().split('= ')[1]\n",
        "        result[id] = {'text': '', 'tokens': []}\n",
        "\n",
        "      elif line.startswith('# text'):\n",
        "        text = line.strip().split('= ')[1]\n",
        "        result[id]['text'] = text\n",
        "\n",
        "      elif line[0].isdigit():\n",
        "        word_str = line.strip().split(\"\\t\")\n",
        "        word = word_str[1].strip(punctuation)\n",
        "        if word != '': # это чтобы точки после strip(punctuation) не вошли как пустая строка в словарь\n",
        "          result[id]['tokens'].append(word)\n",
        "\n",
        "    return result\n",
        "\n",
        "  def poscount(self):\n",
        "    count = []\n",
        "\n",
        "    for line in self.lines:\n",
        "      if line[0].isdigit():\n",
        "        pos = line.strip().split()[3]\n",
        "        count.append(pos)\n",
        "\n",
        "    count = Counter(count)\n",
        "\n",
        "    print(f'POS{\"\":>13}%')\n",
        "\n",
        "    word_sum = 0\n",
        "    for value in count.values():\n",
        "      word_sum += value\n",
        "\n",
        "    for key, value in count.items():\n",
        "      indent = 15 - len(key) - len(str(round((value/word_sum * 100))))\n",
        "      print(f'{key}' + \" \" * indent + f'{round((value/word_sum * 100), 1)}')\n",
        "\n",
        "  def unique_words(self):\n",
        "    unique_words = []\n",
        "\n",
        "    for line in self.lines:\n",
        "      if line[0].isdigit():\n",
        "        my_line = line.strip().split()\n",
        "        if my_line[3] != 'PUNCT' and my_line[2] not in unique_words:\n",
        "          unique_words.append(my_line[2])\n",
        "\n",
        "    print(unique_words)\n",
        "    print(f'Количество уникальных слов: - {len(unique_words)}.')\n",
        "\n",
        "  def lemmas(self):\n",
        "    a = 0\n",
        "\n",
        "    for line in self.lines:\n",
        "      if line[0].isdigit():\n",
        "        my_line = line.strip().split()\n",
        "        if my_line[1] == my_line[2]:\n",
        "          a += 1\n",
        "\n",
        "    print(f'Количество слов, которые по форме совпадают со своей леммой: {a}.')"
      ]
    },
    {
      "cell_type": "code",
      "source": [
        "my_conllu = Conllu('/content/syntagrus_tiny.conllu')\n",
        "my_conllu.read_conllu()"
      ],
      "metadata": {
        "colab": {
          "base_uri": "https://localhost:8080/"
        },
        "id": "n6Hyvtfl5bWA",
        "outputId": "649a35cd-6e17-468a-f3f6-c620d2f47755"
      },
      "id": "n6Hyvtfl5bWA",
      "execution_count": null,
      "outputs": [
        {
          "output_type": "execute_result",
          "data": {
            "text/plain": [
              "{'2003Armeniya.xml_1': {'text': 'В советский период времени число ИТ- специалистов в Армении составляло около десяти тысяч.',\n",
              "  'tokens': ['В',\n",
              "   'советский',\n",
              "   'период',\n",
              "   'времени',\n",
              "   'число',\n",
              "   'ИТ',\n",
              "   'специалистов',\n",
              "   'в',\n",
              "   'Армении',\n",
              "   'составляло',\n",
              "   'около',\n",
              "   'десяти',\n",
              "   'тысяч']},\n",
              " '2003Armeniya.xml_2': {'text': 'Доставшийся в наследство от советского периода времени промышленный и интеллектуальный потенциал оказался благом и горем страны.',\n",
              "  'tokens': ['Доставшийся',\n",
              "   'в',\n",
              "   'наследство',\n",
              "   'от',\n",
              "   'советского',\n",
              "   'периода',\n",
              "   'времени',\n",
              "   'промышленный',\n",
              "   'и',\n",
              "   'интеллектуальный',\n",
              "   'потенциал',\n",
              "   'оказался',\n",
              "   'благом',\n",
              "   'и',\n",
              "   'горем',\n",
              "   'страны']},\n",
              " '2003Armeniya.xml_3': {'text': 'С одной стороны, квалифицированные кадры и развитая производственная инфраструктура резко отличали Армению от других регионов СССР, где доминировали добывающие отрасли, а экономика строилась на поставке сырьевых ресурсов.',\n",
              "  'tokens': ['С',\n",
              "   'одной',\n",
              "   'стороны',\n",
              "   'квалифицированные',\n",
              "   'кадры',\n",
              "   'и',\n",
              "   'развитая',\n",
              "   'производственная',\n",
              "   'инфраструктура',\n",
              "   'резко',\n",
              "   'отличали',\n",
              "   'Армению',\n",
              "   'от',\n",
              "   'других',\n",
              "   'регионов',\n",
              "   'СССР',\n",
              "   'где',\n",
              "   'доминировали',\n",
              "   'добывающие',\n",
              "   'отрасли',\n",
              "   'а',\n",
              "   'экономика',\n",
              "   'строилась',\n",
              "   'на',\n",
              "   'поставке',\n",
              "   'сырьевых',\n",
              "   'ресурсов']}}"
            ]
          },
          "metadata": {},
          "execution_count": 11
        }
      ]
    },
    {
      "cell_type": "code",
      "source": [
        "my_conllu.poscount()\n",
        "my_conllu.unique_words()\n",
        "my_conllu.lemmas()"
      ],
      "metadata": {
        "colab": {
          "base_uri": "https://localhost:8080/"
        },
        "id": "8AlHScXG3MGC",
        "outputId": "4a1188b6-3844-42df-9149-6f6f6399147d"
      },
      "id": "8AlHScXG3MGC",
      "execution_count": null,
      "outputs": [
        {
          "output_type": "stream",
          "name": "stdout",
          "text": [
            "POS             %\n",
            "ADP          12.7\n",
            "ADJ          11.1\n",
            "NOUN         31.7\n",
            "PROPN         6.3\n",
            "PUNCT        11.1\n",
            "VERB         14.3\n",
            "NUM           3.2\n",
            "CCONJ         6.3\n",
            "ADV           3.2\n",
            "['в', 'советский', 'период', 'время', 'число', 'ИТ', 'специалист', 'Армения', 'составлять', 'около', 'десять', 'тысяча', 'достаться', 'наследство', 'от', 'промышленный', 'и', 'интеллектуальный', 'потенциал', 'оказаться', 'благо', 'горе', 'страна', 'с', 'один', 'сторона', 'квалифицировать', 'кадр', 'развить', 'производственный', 'инфраструктура', 'резко', 'отличать', 'другой', 'регион', 'СССР', 'где', 'доминировать', 'добывать', 'отрасль', 'а', 'экономика', 'строить', 'на', 'поставка', 'сырьевой', 'ресурс']\n",
            "Количество уникальных слов: - 47.\n",
            "Количество слов, которые по форме совпадают со своей леммой: 30.\n"
          ]
        }
      ]
    },
    {
      "cell_type": "code",
      "source": [
        "class Token:\n",
        "  def __init__(self, conllu: str):\n",
        "    self.conllu = conllu\n",
        "    self.lines = []\n",
        "\n",
        "  def read_tokens(self):\n",
        "\n",
        "    with open(self.conllu, 'r', encoding='utf-8') as file:\n",
        "      self.lines = file.readlines()\n",
        "\n",
        "    for line in self.lines:\n",
        "      if line[0].isdigit():\n",
        "        word_str = line.split(\"\\t\")\n",
        "        all_tokens = ['ID', 'FORM', 'LEMMA', 'UPOS', 'XPOS', 'FEATS', 'HEAD', 'DEPREL', 'DEPS', 'MISC']\n",
        "        token_result = dict(zip(all_tokens, word_str))\n",
        "        print(token_result)"
      ],
      "metadata": {
        "id": "F-uSkkWtJz8v"
      },
      "id": "F-uSkkWtJz8v",
      "execution_count": null,
      "outputs": []
    },
    {
      "cell_type": "code",
      "source": [
        "my_conllu = Token('/content/syntagrus_tiny.conllu')\n",
        "my_conllu.read_tokens()"
      ],
      "metadata": {
        "colab": {
          "base_uri": "https://localhost:8080/"
        },
        "id": "jub3DwFSJ-4b",
        "outputId": "ae4bc3bd-3369-434f-deec-b51b74d245a3"
      },
      "id": "jub3DwFSJ-4b",
      "execution_count": null,
      "outputs": [
        {
          "output_type": "stream",
          "name": "stdout",
          "text": [
            "{'ID': '1', 'FORM': 'В', 'LEMMA': 'в', 'UPOS': 'ADP', 'XPOS': '_', 'FEATS': '_', 'HEAD': '3', 'DEPREL': 'case', 'DEPS': '3:case', 'MISC': '_\\n'}\n",
            "{'ID': '2', 'FORM': 'советский', 'LEMMA': 'советский', 'UPOS': 'ADJ', 'XPOS': '_', 'FEATS': 'Animacy=Inan|Case=Acc|Degree=Pos|Gender=Masc|Number=Sing', 'HEAD': '3', 'DEPREL': 'amod', 'DEPS': '3:amod', 'MISC': '_\\n'}\n",
            "{'ID': '3', 'FORM': 'период', 'LEMMA': 'период', 'UPOS': 'NOUN', 'XPOS': '_', 'FEATS': 'Animacy=Inan|Case=Acc|Gender=Masc|Number=Sing', 'HEAD': '11', 'DEPREL': 'obl', 'DEPS': '11:obl:в:acc', 'MISC': '_\\n'}\n",
            "{'ID': '4', 'FORM': 'времени', 'LEMMA': 'время', 'UPOS': 'NOUN', 'XPOS': '_', 'FEATS': 'Animacy=Inan|Case=Gen|Gender=Neut|Number=Sing', 'HEAD': '3', 'DEPREL': 'nmod', 'DEPS': '3:nmod:gen', 'MISC': '_\\n'}\n",
            "{'ID': '5', 'FORM': 'число', 'LEMMA': 'число', 'UPOS': 'NOUN', 'XPOS': '_', 'FEATS': 'Animacy=Inan|Case=Acc|Gender=Neut|Number=Sing', 'HEAD': '11', 'DEPREL': 'obj', 'DEPS': '11:obj', 'MISC': '_\\n'}\n",
            "{'ID': '6', 'FORM': 'ИТ', 'LEMMA': 'ИТ', 'UPOS': 'PROPN', 'XPOS': '_', 'FEATS': 'Animacy=Inan|Case=Nom|Gender=Neut|Number=Sing', 'HEAD': '8', 'DEPREL': 'compound', 'DEPS': '8:compound', 'MISC': 'SpaceAfter=No\\n'}\n",
            "{'ID': '7', 'FORM': '-', 'LEMMA': '-', 'UPOS': 'PUNCT', 'XPOS': '_', 'FEATS': '_', 'HEAD': '6', 'DEPREL': 'punct', 'DEPS': '6:punct', 'MISC': '_\\n'}\n",
            "{'ID': '8', 'FORM': 'специалистов', 'LEMMA': 'специалист', 'UPOS': 'NOUN', 'XPOS': '_', 'FEATS': 'Animacy=Anim|Case=Gen|Gender=Masc|Number=Plur', 'HEAD': '5', 'DEPREL': 'nmod', 'DEPS': '5:nmod:gen', 'MISC': '_\\n'}\n",
            "{'ID': '9', 'FORM': 'в', 'LEMMA': 'в', 'UPOS': 'ADP', 'XPOS': '_', 'FEATS': '_', 'HEAD': '10', 'DEPREL': 'case', 'DEPS': '10:case', 'MISC': '_\\n'}\n",
            "{'ID': '10', 'FORM': 'Армении', 'LEMMA': 'Армения', 'UPOS': 'PROPN', 'XPOS': '_', 'FEATS': 'Animacy=Inan|Case=Loc|Gender=Fem|Number=Sing', 'HEAD': '5', 'DEPREL': 'nmod', 'DEPS': '5:nmod:в:loc', 'MISC': '_\\n'}\n",
            "{'ID': '11', 'FORM': 'составляло', 'LEMMA': 'составлять', 'UPOS': 'VERB', 'XPOS': '_', 'FEATS': 'Aspect=Imp|Gender=Neut|Mood=Ind|Number=Sing|Tense=Past|VerbForm=Fin|Voice=Act', 'HEAD': '0', 'DEPREL': 'root', 'DEPS': '0:root', 'MISC': '_\\n'}\n",
            "{'ID': '12', 'FORM': 'около', 'LEMMA': 'около', 'UPOS': 'ADP', 'XPOS': '_', 'FEATS': '_', 'HEAD': '14', 'DEPREL': 'case', 'DEPS': '14:case', 'MISC': '_\\n'}\n",
            "{'ID': '13', 'FORM': 'десяти', 'LEMMA': 'десять', 'UPOS': 'NUM', 'XPOS': '_', 'FEATS': 'Case=Gen|NumType=Card', 'HEAD': '14', 'DEPREL': 'nummod', 'DEPS': '14:nummod', 'MISC': '_\\n'}\n",
            "{'ID': '14', 'FORM': 'тысяч', 'LEMMA': 'тысяча', 'UPOS': 'NOUN', 'XPOS': '_', 'FEATS': 'Animacy=Inan|Case=Gen|Gender=Fem|Number=Plur', 'HEAD': '11', 'DEPREL': 'nsubj', 'DEPS': '11:nsubj', 'MISC': 'SpaceAfter=No\\n'}\n",
            "{'ID': '15', 'FORM': '.', 'LEMMA': '.', 'UPOS': 'PUNCT', 'XPOS': '_', 'FEATS': '_', 'HEAD': '11', 'DEPREL': 'punct', 'DEPS': '11:punct', 'MISC': '_\\n'}\n",
            "{'ID': '1', 'FORM': 'Доставшийся', 'LEMMA': 'достаться', 'UPOS': 'VERB', 'XPOS': '_', 'FEATS': 'Aspect=Perf|Case=Nom|Gender=Masc|Number=Sing|Tense=Past|VerbForm=Part|Voice=Mid', 'HEAD': '11', 'DEPREL': 'acl', 'DEPS': '11:acl', 'MISC': '_\\n'}\n",
            "{'ID': '2', 'FORM': 'в', 'LEMMA': 'в', 'UPOS': 'ADP', 'XPOS': '_', 'FEATS': '_', 'HEAD': '3', 'DEPREL': 'case', 'DEPS': '3:case', 'MISC': '_\\n'}\n",
            "{'ID': '3', 'FORM': 'наследство', 'LEMMA': 'наследство', 'UPOS': 'NOUN', 'XPOS': '_', 'FEATS': 'Animacy=Inan|Case=Acc|Gender=Neut|Number=Sing', 'HEAD': '1', 'DEPREL': 'obl', 'DEPS': '1:obl:в:acc', 'MISC': '_\\n'}\n",
            "{'ID': '4', 'FORM': 'от', 'LEMMA': 'от', 'UPOS': 'ADP', 'XPOS': '_', 'FEATS': '_', 'HEAD': '6', 'DEPREL': 'case', 'DEPS': '6:case', 'MISC': '_\\n'}\n",
            "{'ID': '5', 'FORM': 'советского', 'LEMMA': 'советский', 'UPOS': 'ADJ', 'XPOS': '_', 'FEATS': 'Case=Gen|Degree=Pos|Gender=Masc|Number=Sing', 'HEAD': '6', 'DEPREL': 'amod', 'DEPS': '6:amod', 'MISC': '_\\n'}\n",
            "{'ID': '6', 'FORM': 'периода', 'LEMMA': 'период', 'UPOS': 'NOUN', 'XPOS': '_', 'FEATS': 'Animacy=Inan|Case=Gen|Gender=Masc|Number=Sing', 'HEAD': '3', 'DEPREL': 'nmod', 'DEPS': '3:nmod:от:gen', 'MISC': '_\\n'}\n",
            "{'ID': '7', 'FORM': 'времени', 'LEMMA': 'время', 'UPOS': 'NOUN', 'XPOS': '_', 'FEATS': 'Animacy=Inan|Case=Gen|Gender=Neut|Number=Sing', 'HEAD': '6', 'DEPREL': 'nmod', 'DEPS': '6:nmod:gen', 'MISC': '_\\n'}\n",
            "{'ID': '8', 'FORM': 'промышленный', 'LEMMA': 'промышленный', 'UPOS': 'ADJ', 'XPOS': '_', 'FEATS': 'Case=Nom|Degree=Pos|Gender=Masc|Number=Sing', 'HEAD': '11', 'DEPREL': 'amod', 'DEPS': '11:amod', 'MISC': '_\\n'}\n",
            "{'ID': '9', 'FORM': 'и', 'LEMMA': 'и', 'UPOS': 'CCONJ', 'XPOS': '_', 'FEATS': '_', 'HEAD': '10', 'DEPREL': 'cc', 'DEPS': '10:cc', 'MISC': '_\\n'}\n",
            "{'ID': '10', 'FORM': 'интеллектуальный', 'LEMMA': 'интеллектуальный', 'UPOS': 'ADJ', 'XPOS': '_', 'FEATS': 'Case=Nom|Degree=Pos|Gender=Masc|Number=Sing', 'HEAD': '8', 'DEPREL': 'conj', 'DEPS': '8:conj|11:amod', 'MISC': '_\\n'}\n",
            "{'ID': '11', 'FORM': 'потенциал', 'LEMMA': 'потенциал', 'UPOS': 'NOUN', 'XPOS': '_', 'FEATS': 'Animacy=Inan|Case=Nom|Gender=Masc|Number=Sing', 'HEAD': '12', 'DEPREL': 'nsubj', 'DEPS': '12:nsubj', 'MISC': '_\\n'}\n",
            "{'ID': '12', 'FORM': 'оказался', 'LEMMA': 'оказаться', 'UPOS': 'VERB', 'XPOS': '_', 'FEATS': 'Aspect=Perf|Gender=Masc|Mood=Ind|Number=Sing|Tense=Past|VerbForm=Fin|Voice=Mid', 'HEAD': '0', 'DEPREL': 'root', 'DEPS': '0:root', 'MISC': '_\\n'}\n",
            "{'ID': '13', 'FORM': 'благом', 'LEMMA': 'благо', 'UPOS': 'NOUN', 'XPOS': '_', 'FEATS': 'Animacy=Inan|Case=Ins|Gender=Neut|Number=Sing', 'HEAD': '12', 'DEPREL': 'obl', 'DEPS': '12:obl:ins', 'MISC': '_\\n'}\n",
            "{'ID': '14', 'FORM': 'и', 'LEMMA': 'и', 'UPOS': 'CCONJ', 'XPOS': '_', 'FEATS': '_', 'HEAD': '15', 'DEPREL': 'cc', 'DEPS': '15:cc', 'MISC': '_\\n'}\n",
            "{'ID': '15', 'FORM': 'горем', 'LEMMA': 'горе', 'UPOS': 'NOUN', 'XPOS': '_', 'FEATS': 'Animacy=Inan|Case=Ins|Gender=Neut|Number=Sing', 'HEAD': '13', 'DEPREL': 'conj', 'DEPS': '12:obl:ins|13:conj', 'MISC': '_\\n'}\n",
            "{'ID': '16', 'FORM': 'страны', 'LEMMA': 'страна', 'UPOS': 'NOUN', 'XPOS': '_', 'FEATS': 'Animacy=Inan|Case=Gen|Gender=Fem|Number=Sing', 'HEAD': '15', 'DEPREL': 'nmod', 'DEPS': '15:nmod:gen', 'MISC': 'SpaceAfter=No\\n'}\n",
            "{'ID': '17', 'FORM': '.', 'LEMMA': '.', 'UPOS': 'PUNCT', 'XPOS': '_', 'FEATS': '_', 'HEAD': '12', 'DEPREL': 'punct', 'DEPS': '12:punct', 'MISC': '_\\n'}\n",
            "{'ID': '1', 'FORM': 'С', 'LEMMA': 'с', 'UPOS': 'ADP', 'XPOS': '_', 'FEATS': '_', 'HEAD': '3', 'DEPREL': 'case', 'DEPS': '3:case', 'MISC': '_\\n'}\n",
            "{'ID': '2', 'FORM': 'одной', 'LEMMA': 'один', 'UPOS': 'NUM', 'XPOS': '_', 'FEATS': 'Case=Gen|Gender=Fem|NumType=Card', 'HEAD': '3', 'DEPREL': 'nummod', 'DEPS': '3:nummod', 'MISC': '_\\n'}\n",
            "{'ID': '3', 'FORM': 'стороны', 'LEMMA': 'сторона', 'UPOS': 'NOUN', 'XPOS': '_', 'FEATS': 'Animacy=Inan|Case=Gen|Gender=Fem|Number=Sing', 'HEAD': '12', 'DEPREL': 'parataxis', 'DEPS': '12:parataxis', 'MISC': 'SpaceAfter=No\\n'}\n",
            "{'ID': '4', 'FORM': ',', 'LEMMA': ',', 'UPOS': 'PUNCT', 'XPOS': '_', 'FEATS': '_', 'HEAD': '3', 'DEPREL': 'punct', 'DEPS': '3:punct', 'MISC': '_\\n'}\n",
            "{'ID': '5', 'FORM': 'квалифицированные', 'LEMMA': 'квалифицировать', 'UPOS': 'VERB', 'XPOS': '_', 'FEATS': 'Aspect=Perf|Case=Nom|Number=Plur|Tense=Past|VerbForm=Part|Voice=Pass', 'HEAD': '6', 'DEPREL': 'amod', 'DEPS': '6:amod', 'MISC': '_\\n'}\n",
            "{'ID': '6', 'FORM': 'кадры', 'LEMMA': 'кадр', 'UPOS': 'NOUN', 'XPOS': '_', 'FEATS': 'Animacy=Inan|Case=Nom|Gender=Masc|Number=Plur', 'HEAD': '12', 'DEPREL': 'nsubj', 'DEPS': '12:nsubj', 'MISC': '_\\n'}\n",
            "{'ID': '7', 'FORM': 'и', 'LEMMA': 'и', 'UPOS': 'CCONJ', 'XPOS': '_', 'FEATS': '_', 'HEAD': '10', 'DEPREL': 'cc', 'DEPS': '10:cc', 'MISC': '_\\n'}\n",
            "{'ID': '8', 'FORM': 'развитая', 'LEMMA': 'развить', 'UPOS': 'VERB', 'XPOS': '_', 'FEATS': 'Aspect=Perf|Case=Nom|Gender=Fem|Number=Sing|Tense=Past|VerbForm=Part|Voice=Pass', 'HEAD': '10', 'DEPREL': 'amod', 'DEPS': '10:amod', 'MISC': '_\\n'}\n",
            "{'ID': '9', 'FORM': 'производственная', 'LEMMA': 'производственный', 'UPOS': 'ADJ', 'XPOS': '_', 'FEATS': 'Case=Nom|Degree=Pos|Gender=Fem|Number=Sing', 'HEAD': '10', 'DEPREL': 'amod', 'DEPS': '10:amod', 'MISC': '_\\n'}\n",
            "{'ID': '10', 'FORM': 'инфраструктура', 'LEMMA': 'инфраструктура', 'UPOS': 'NOUN', 'XPOS': '_', 'FEATS': 'Animacy=Inan|Case=Nom|Gender=Fem|Number=Sing', 'HEAD': '6', 'DEPREL': 'conj', 'DEPS': '6:conj|12:nsubj', 'MISC': '_\\n'}\n",
            "{'ID': '11', 'FORM': 'резко', 'LEMMA': 'резко', 'UPOS': 'ADV', 'XPOS': '_', 'FEATS': 'Degree=Pos', 'HEAD': '12', 'DEPREL': 'advmod', 'DEPS': '12:advmod', 'MISC': '_\\n'}\n",
            "{'ID': '12', 'FORM': 'отличали', 'LEMMA': 'отличать', 'UPOS': 'VERB', 'XPOS': '_', 'FEATS': 'Aspect=Imp|Mood=Ind|Number=Plur|Tense=Past|VerbForm=Fin|Voice=Act', 'HEAD': '0', 'DEPREL': 'root', 'DEPS': '0:root', 'MISC': '_\\n'}\n",
            "{'ID': '13', 'FORM': 'Армению', 'LEMMA': 'Армения', 'UPOS': 'PROPN', 'XPOS': '_', 'FEATS': 'Animacy=Inan|Case=Acc|Gender=Fem|Number=Sing', 'HEAD': '12', 'DEPREL': 'obj', 'DEPS': '12:obj', 'MISC': '_\\n'}\n",
            "{'ID': '14', 'FORM': 'от', 'LEMMA': 'от', 'UPOS': 'ADP', 'XPOS': '_', 'FEATS': '_', 'HEAD': '16', 'DEPREL': 'case', 'DEPS': '16:case', 'MISC': '_\\n'}\n",
            "{'ID': '15', 'FORM': 'других', 'LEMMA': 'другой', 'UPOS': 'ADJ', 'XPOS': '_', 'FEATS': 'Case=Gen|Degree=Pos|Number=Plur', 'HEAD': '16', 'DEPREL': 'amod', 'DEPS': '16:amod', 'MISC': '_\\n'}\n",
            "{'ID': '16', 'FORM': 'регионов', 'LEMMA': 'регион', 'UPOS': 'NOUN', 'XPOS': '_', 'FEATS': 'Animacy=Inan|Case=Gen|Gender=Masc|Number=Plur', 'HEAD': '12', 'DEPREL': 'obl', 'DEPS': '12:obl:от:gen', 'MISC': '_\\n'}\n",
            "{'ID': '17', 'FORM': 'СССР', 'LEMMA': 'СССР', 'UPOS': 'PROPN', 'XPOS': '_', 'FEATS': 'Animacy=Inan|Case=Gen|Gender=Masc|Number=Sing', 'HEAD': '16', 'DEPREL': 'nmod', 'DEPS': '16:nmod:gen', 'MISC': 'SpaceAfter=No\\n'}\n",
            "{'ID': '18', 'FORM': ',', 'LEMMA': ',', 'UPOS': 'PUNCT', 'XPOS': '_', 'FEATS': '_', 'HEAD': '20', 'DEPREL': 'punct', 'DEPS': '20:punct', 'MISC': '_\\n'}\n",
            "{'ID': '19', 'FORM': 'где', 'LEMMA': 'где', 'UPOS': 'ADV', 'XPOS': '_', 'FEATS': 'Degree=Pos', 'HEAD': '20', 'DEPREL': 'advmod', 'DEPS': '20:advmod', 'MISC': '_\\n'}\n",
            "{'ID': '20', 'FORM': 'доминировали', 'LEMMA': 'доминировать', 'UPOS': 'VERB', 'XPOS': '_', 'FEATS': 'Aspect=Imp|Mood=Ind|Number=Plur|Tense=Past|VerbForm=Fin|Voice=Act', 'HEAD': '16', 'DEPREL': 'acl:relcl', 'DEPS': '16:acl:relcl', 'MISC': '_\\n'}\n",
            "{'ID': '21', 'FORM': 'добывающие', 'LEMMA': 'добывать', 'UPOS': 'VERB', 'XPOS': '_', 'FEATS': 'Aspect=Imp|Case=Nom|Number=Plur|Tense=Pres|VerbForm=Part|Voice=Act', 'HEAD': '22', 'DEPREL': 'amod', 'DEPS': '22:amod', 'MISC': '_\\n'}\n",
            "{'ID': '22', 'FORM': 'отрасли', 'LEMMA': 'отрасль', 'UPOS': 'NOUN', 'XPOS': '_', 'FEATS': 'Animacy=Inan|Case=Nom|Gender=Fem|Number=Plur', 'HEAD': '20', 'DEPREL': 'nsubj', 'DEPS': '20:nsubj', 'MISC': 'SpaceAfter=No\\n'}\n",
            "{'ID': '23', 'FORM': ',', 'LEMMA': ',', 'UPOS': 'PUNCT', 'XPOS': '_', 'FEATS': '_', 'HEAD': '26', 'DEPREL': 'punct', 'DEPS': '26:punct', 'MISC': '_\\n'}\n",
            "{'ID': '24', 'FORM': 'а', 'LEMMA': 'а', 'UPOS': 'CCONJ', 'XPOS': '_', 'FEATS': '_', 'HEAD': '26', 'DEPREL': 'cc', 'DEPS': '26:cc', 'MISC': '_\\n'}\n",
            "{'ID': '25', 'FORM': 'экономика', 'LEMMA': 'экономика', 'UPOS': 'NOUN', 'XPOS': '_', 'FEATS': 'Animacy=Inan|Case=Nom|Gender=Fem|Number=Sing', 'HEAD': '26', 'DEPREL': 'nsubj:pass', 'DEPS': '26:nsubj:pass', 'MISC': '_\\n'}\n",
            "{'ID': '26', 'FORM': 'строилась', 'LEMMA': 'строить', 'UPOS': 'VERB', 'XPOS': '_', 'FEATS': 'Aspect=Imp|Gender=Fem|Mood=Ind|Number=Sing|Tense=Past|VerbForm=Fin|Voice=Pass', 'HEAD': '20', 'DEPREL': 'conj', 'DEPS': '16:acl:relcl|20:conj', 'MISC': '_\\n'}\n",
            "{'ID': '27', 'FORM': 'на', 'LEMMA': 'на', 'UPOS': 'ADP', 'XPOS': '_', 'FEATS': '_', 'HEAD': '28', 'DEPREL': 'case', 'DEPS': '28:case', 'MISC': '_\\n'}\n",
            "{'ID': '28', 'FORM': 'поставке', 'LEMMA': 'поставка', 'UPOS': 'NOUN', 'XPOS': '_', 'FEATS': 'Animacy=Inan|Case=Loc|Gender=Fem|Number=Sing', 'HEAD': '26', 'DEPREL': 'obl', 'DEPS': '26:obl:на:loc', 'MISC': '_\\n'}\n",
            "{'ID': '29', 'FORM': 'сырьевых', 'LEMMA': 'сырьевой', 'UPOS': 'ADJ', 'XPOS': '_', 'FEATS': 'Case=Gen|Degree=Pos|Number=Plur', 'HEAD': '30', 'DEPREL': 'amod', 'DEPS': '30:amod', 'MISC': '_\\n'}\n",
            "{'ID': '30', 'FORM': 'ресурсов', 'LEMMA': 'ресурс', 'UPOS': 'NOUN', 'XPOS': '_', 'FEATS': 'Animacy=Inan|Case=Gen|Gender=Masc|Number=Plur', 'HEAD': '28', 'DEPREL': 'nmod', 'DEPS': '28:nmod:gen', 'MISC': 'SpaceAfter=No\\n'}\n",
            "{'ID': '31', 'FORM': '.', 'LEMMA': '.', 'UPOS': 'PUNCT', 'XPOS': '_', 'FEATS': '_', 'HEAD': '12', 'DEPREL': 'punct', 'DEPS': '12:punct', 'MISC': '_\\n'}\n"
          ]
        }
      ]
    },
    {
      "cell_type": "markdown",
      "id": "3caf41f6-8fba-488c-a2d2-1247e9217f87",
      "metadata": {
        "id": "3caf41f6-8fba-488c-a2d2-1247e9217f87"
      },
      "source": [
        "#### Задача 2 (5 баллов).\n",
        "\n",
        "Хотим написать программу - базу данных для библиотеки. Нам понадобится класс \"книга\", который будет содержать автора, название, жанр и количество страниц; а также класс \"библиотека\", в котором в атрибутах будут сидеть все наши книги. В библиотеку будут поступать запросы: нужно будет выдавать перечень всех книг одного автора, перечень всех книг конкретного жанра, а также проверять, что книга такого автора и с таким названием есть (вам хорошо помогут генераторные выражения для всех этих вещей, а еще можно переопределить магический метод \\_\\_eq\\_\\_ у класса \"книга\" - он должен возвращать bool, а внутри него можно сравнивать атрибуты экземпляров self и other - и проверять наличие объекта класса \"книга\" в списке)."
      ]
    },
    {
      "cell_type": "code",
      "execution_count": 81,
      "id": "1b452e22-519b-4426-83e8-0c23cd1d775d",
      "metadata": {
        "id": "1b452e22-519b-4426-83e8-0c23cd1d775d"
      },
      "outputs": [],
      "source": [
        "class Book:\n",
        "  def __init__(self, author, title, genre, pages: int):\n",
        "    self.author = author\n",
        "    self.title = title\n",
        "    self.genre = genre\n",
        "    self.pages = pages\n",
        "\n",
        "  def __str__(self):\n",
        "    return f'Автор: {self.author}, название: \"{self.title}\", жанр: {self.genre}, кол-во страниц: {self.pages}'\n",
        "\n",
        "class Library:\n",
        "  def __init__(self):\n",
        "    self.all_books = []\n",
        "\n",
        "  def add_book(self, book): # добавить новую книгу в библиотеку\n",
        "    self.all_books.append(book)\n",
        "\n",
        "  def show_library(self): # показать всю библиотеку\n",
        "    for i in self.all_books:\n",
        "      print(i)\n",
        "\n",
        "  def all_books_by_author(self, author): # перечень всех книг одного автора\n",
        "    return [book for book in self.all_books if book.author == author]\n",
        "\n",
        "  def all_books_by_genre(self, genre): #  перечень всех книг конкретного жанра\n",
        "    return [book for book in self.all_books if book.genre == genre]\n",
        "\n",
        "  def check_book(self, author, title): # проверяем, что книга такого автора и с таким названием есть\n",
        "    return any(book for book in self.all_books if book == Book(author, title))"
      ]
    },
    {
      "cell_type": "code",
      "source": [
        "library = Library()\n",
        "book_1 = Book('И. С. Тургенев', 'Ася', 'повесть', '64')\n",
        "book_2 = Book('Антуан де Сент-Экзюпери', 'Военный лётчик', 'биография', '366')\n",
        "book_3 = Book('И. С. Тургенев', 'Отцы и Дети', 'роман', '288')\n",
        "book_4 = Book('Л. Н. Толстой', 'Война и Мир', 'роман', '1300')\n",
        "library.add_book(book_1), library.add_book(book_2), library.add_book(book_3), library.add_book(book_4)"
      ],
      "metadata": {
        "id": "oYibsvGQMhQO",
        "colab": {
          "base_uri": "https://localhost:8080/"
        },
        "outputId": "7c570db2-78c6-4afa-ee29-78841b61c2a9"
      },
      "id": "oYibsvGQMhQO",
      "execution_count": 64,
      "outputs": [
        {
          "output_type": "execute_result",
          "data": {
            "text/plain": [
              "(None, None, None, None)"
            ]
          },
          "metadata": {},
          "execution_count": 64
        }
      ]
    },
    {
      "cell_type": "code",
      "source": [
        "library.show_library()"
      ],
      "metadata": {
        "colab": {
          "base_uri": "https://localhost:8080/"
        },
        "id": "0CD4t4Q3cEP3",
        "outputId": "755f17de-8000-4e8f-fe1d-52a4851bd4e3"
      },
      "id": "0CD4t4Q3cEP3",
      "execution_count": 65,
      "outputs": [
        {
          "output_type": "stream",
          "name": "stdout",
          "text": [
            "Автор: И. С. Тургенев, название: \"Ася\", жанр: повесть, кол-во страниц: 64\n",
            "Автор: Антуан де Сент-Экзюпери, название: \"Военный лётчик\", жанр: биография, кол-во страниц: 366\n",
            "Автор: И. С. Тургенев, название: \"Отцы и Дети\", жанр: роман, кол-во страниц: 288\n",
            "Автор: Л. Н. Толстой, название: \"Война и Мир\", жанр: роман, кол-во страниц: 1300\n"
          ]
        }
      ]
    },
    {
      "cell_type": "code",
      "source": [
        "print(library.check_book('Л. Н. Толстой', 'Отцы и Дети')), print(library.check_book('Л. Н. Толстой', 'Война и Мир'))"
      ],
      "metadata": {
        "colab": {
          "base_uri": "https://localhost:8080/"
        },
        "id": "GuIOrxFBgwtz",
        "outputId": "e9b8d97a-ff6f-4c7a-9d43-38f927b4c3c4"
      },
      "id": "GuIOrxFBgwtz",
      "execution_count": 82,
      "outputs": [
        {
          "output_type": "stream",
          "name": "stdout",
          "text": [
            "False\n",
            "True\n"
          ]
        },
        {
          "output_type": "execute_result",
          "data": {
            "text/plain": [
              "(None, None)"
            ]
          },
          "metadata": {},
          "execution_count": 82
        }
      ]
    },
    {
      "cell_type": "code",
      "source": [
        "library.all_books_by_author('И. С. Тургенев') # когда я добавила __str__, в show_library все стало красиво, а здесь нет.."
      ],
      "metadata": {
        "colab": {
          "base_uri": "https://localhost:8080/"
        },
        "id": "kMNRrkysmYaq",
        "outputId": "49723261-9b93-4372-8356-0e4f59304833"
      },
      "id": "kMNRrkysmYaq",
      "execution_count": 66,
      "outputs": [
        {
          "output_type": "execute_result",
          "data": {
            "text/plain": [
              "[<__main__.Book at 0x781804725cf0>, <__main__.Book at 0x781804726590>]"
            ]
          },
          "metadata": {},
          "execution_count": 66
        }
      ]
    }
  ],
  "metadata": {
    "kernelspec": {
      "display_name": "Python 3 (ipykernel)",
      "language": "python",
      "name": "python3"
    },
    "language_info": {
      "codemirror_mode": {
        "name": "ipython",
        "version": 3
      },
      "file_extension": ".py",
      "mimetype": "text/x-python",
      "name": "python",
      "nbconvert_exporter": "python",
      "pygments_lexer": "ipython3",
      "version": "3.12.1"
    },
    "colab": {
      "provenance": []
    }
  },
  "nbformat": 4,
  "nbformat_minor": 5
}